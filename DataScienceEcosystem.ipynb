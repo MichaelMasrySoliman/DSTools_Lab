{
 "cells": [
  {
   "cell_type": "markdown",
   "id": "56f74a2d-38c6-4b85-9735-21027d391a30",
   "metadata": {},
   "source": [
    "# Data Science Tools and Ecosystem"
   ]
  },
  {
   "cell_type": "markdown",
   "id": "3fc82357-0b41-475d-8c81-30bb2ffb0ada",
   "metadata": {},
   "source": [
    "## Author:\n",
    "Michael Soliman"
   ]
  },
  {
   "cell_type": "markdown",
   "id": "95ce63ff-e2f4-46f6-8e21-f283b501ee5f",
   "metadata": {},
   "source": [
    "### In this notebook, Data Science Tools and Ecosystem are summarized."
   ]
  },
  {
   "cell_type": "markdown",
   "id": "65a79906-66b4-4618-94a8-62dfd68a614c",
   "metadata": {},
   "source": [
    "**Objectives:**\r\n",
    "\r\n",
    "- List popular languages for Data Science.\r\n",
    "- Introduce commonly used libraries in Data Science.\r\n",
    "- Demonstrate the usage of open-source development environment tools in Data Science.\r\n",
    "- Provide examples of arithmetic expressions commonly encountered in Data Science.\r\n",
    "\r\n",
    "\r\n",
    "\r\n",
    "\r\n"
   ]
  },
  {
   "cell_type": "markdown",
   "id": "b6359799-3443-4fd1-944d-5dbf5a528463",
   "metadata": {},
   "source": [
    "Some of the popular languages that Data Scientists use are:\r\n",
    "\r\n",
    "1. Python\r\n",
    "2. R\r\n",
    "3. SQL\r\n",
    "4. Julia\r\n",
    "5. Scala\r\n"
   ]
  },
  {
   "cell_type": "markdown",
   "id": "2fa2920e-649e-4877-a3df-6a908848f674",
   "metadata": {},
   "source": [
    "Some of the commonly used libraries used by Data Scientists include:\r\n",
    "\r\n",
    "1. Pandas\r\n",
    "2. NumPy\r\n",
    "3. Matplotlib\r\n",
    "4. Scikit-learn"
   ]
  },
  {
   "cell_type": "markdown",
   "id": "e9ac551f-01c4-43e3-9ed1-040598ed27da",
   "metadata": {},
   "source": [
    "| Data Science Tools   |\r\n",
    "|----------------------|\r\n",
    "| Jupyter Notebook     |\r\n",
    "| RStudio              |\r\n",
    "| VS Code with Python  |"
   ]
  },
  {
   "cell_type": "markdown",
   "id": "8d9e6968-943d-488d-b716-e4c1d0342923",
   "metadata": {},
   "source": [
    "### Below are a few examples of evaluating arithmetic expressions in Python"
   ]
  },
  {
   "cell_type": "code",
   "execution_count": 32,
   "id": "3d9a4e13-becd-4e7b-a5c2-983de144318b",
   "metadata": {},
   "outputs": [
    {
     "data": {
      "text/plain": [
       "17"
      ]
     },
     "execution_count": 32,
     "metadata": {},
     "output_type": "execute_result"
    }
   ],
   "source": [
    "#This a simple arithmetic expression to mutiply then add integers\n",
    "(3*4)+5"
   ]
  },
  {
   "cell_type": "code",
   "execution_count": 33,
   "id": "dcb8ec25-9644-4b4a-be83-798bfa7f422e",
   "metadata": {},
   "outputs": [
    {
     "data": {
      "text/plain": [
       "3.3333333333333335"
      ]
     },
     "execution_count": 33,
     "metadata": {},
     "output_type": "execute_result"
    }
   ],
   "source": [
    "#This will convert 200 minutes to hours by diving by 60\n",
    "200/60"
   ]
  },
  {
   "cell_type": "markdown",
   "id": "10f14cea-62d7-4332-b0b5-ac506667c500",
   "metadata": {},
   "source": []
  }
 ],
 "metadata": {
  "kernelspec": {
   "display_name": "Python 3 (ipykernel)",
   "language": "python",
   "name": "python3"
  },
  "language_info": {
   "codemirror_mode": {
    "name": "ipython",
    "version": 3
   },
   "file_extension": ".py",
   "mimetype": "text/x-python",
   "name": "python",
   "nbconvert_exporter": "python",
   "pygments_lexer": "ipython3",
   "version": "3.11.9"
  }
 },
 "nbformat": 4,
 "nbformat_minor": 5
}
